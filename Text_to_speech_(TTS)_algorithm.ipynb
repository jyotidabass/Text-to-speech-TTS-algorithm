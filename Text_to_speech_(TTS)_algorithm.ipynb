{
  "nbformat": 4,
  "nbformat_minor": 0,
  "metadata": {
    "colab": {
      "provenance": [],
      "authorship_tag": "ABX9TyM3aBvjh2iFExUoZ7b3Ixm1",
      "include_colab_link": true
    },
    "kernelspec": {
      "name": "python3",
      "display_name": "Python 3"
    },
    "language_info": {
      "name": "python"
    }
  },
  "cells": [
    {
      "cell_type": "markdown",
      "metadata": {
        "id": "view-in-github",
        "colab_type": "text"
      },
      "source": [
        "<a href=\"https://colab.research.google.com/github/jyotidabass/Text-to-speech-TTS-algorithm/blob/main/Text_to_speech_(TTS)_algorithm.ipynb\" target=\"_parent\"><img src=\"https://colab.research.google.com/assets/colab-badge.svg\" alt=\"Open In Colab\"/></a>"
      ]
    },
    {
      "cell_type": "markdown",
      "source": [
        "To use Text-to-Speech (TTS) in Python on Google Colab, you can use the gTTS (Google Text-to-Speech) library. gTTS is a Python wrapper for the Google Cloud Text-to-Speech API, which is a powerful TTS service.\n",
        "\n",
        "**First, you need to install the gTTS library. **\n",
        "\n",
        "Next, you can use the following code to convert a text to speech and play the audio. This code will first create a gTTS object with the input text, then save the audio to an MP3 file named \"text_to_speech.mp3\". Finally, it will use the aplay command to play the audio on Google Colab.\n",
        "\n",
        "Please note that the aplay command may not work if you're running Colab in a browser without a sound output device. In that case, you can download the audio file by removing the aplay command and accessing the file from your Google Drive."
      ],
      "metadata": {
        "id": "NU4TcpRkxEe3"
      }
    },
    {
      "cell_type": "code",
      "source": [
        "!pip install gTTS  # Install gTTS\n",
        "import requests\n",
        "from gtts import gTTS\n",
        "\n",
        "\n",
        "text = \"Hello, this is a simple example of Text-to-Speech using gTTS on Google Colab.\"\n",
        "\n",
        "# Create a TTS object with the text\n",
        "tts = gTTS(text)\n",
        "\n",
        "# Save the audio to a file\n",
        "tts.save(\"text_to_speech.mp3\")"
      ],
      "metadata": {
        "colab": {
          "base_uri": "https://localhost:8080/"
        },
        "id": "pzMmYdr_weRD",
        "outputId": "b1a476e9-31b9-4cc2-cf32-bbbd3bc1f9b6"
      },
      "execution_count": 3,
      "outputs": [
        {
          "output_type": "stream",
          "name": "stdout",
          "text": [
            "Requirement already satisfied: gTTS in /usr/local/lib/python3.10/dist-packages (2.5.2)\n",
            "Requirement already satisfied: requests<3,>=2.27 in /usr/local/lib/python3.10/dist-packages (from gTTS) (2.31.0)\n",
            "Requirement already satisfied: click<8.2,>=7.1 in /usr/local/lib/python3.10/dist-packages (from gTTS) (8.1.7)\n",
            "Requirement already satisfied: charset-normalizer<4,>=2 in /usr/local/lib/python3.10/dist-packages (from requests<3,>=2.27->gTTS) (3.3.2)\n",
            "Requirement already satisfied: idna<4,>=2.5 in /usr/local/lib/python3.10/dist-packages (from requests<3,>=2.27->gTTS) (3.7)\n",
            "Requirement already satisfied: urllib3<3,>=1.21.1 in /usr/local/lib/python3.10/dist-packages (from requests<3,>=2.27->gTTS) (2.0.7)\n",
            "Requirement already satisfied: certifi>=2017.4.17 in /usr/local/lib/python3.10/dist-packages (from requests<3,>=2.27->gTTS) (2024.7.4)\n",
            "/bin/bash: line 1: aplay: command not found\n"
          ]
        }
      ]
    }
  ]
}